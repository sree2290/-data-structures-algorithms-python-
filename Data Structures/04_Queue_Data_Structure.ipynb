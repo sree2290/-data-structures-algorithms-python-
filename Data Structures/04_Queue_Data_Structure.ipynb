{
  "nbformat": 4,
  "nbformat_minor": 0,
  "metadata": {
    "colab": {
      "provenance": [],
      "collapsed_sections": []
    },
    "kernelspec": {
      "name": "python3",
      "display_name": "Python 3"
    },
    "language_info": {
      "name": "python"
    }
  },
  "cells": [
    {
      "cell_type": "markdown",
      "source": [
        "## Queue"
      ],
      "metadata": {
        "id": "-UpYJwtcvR-n"
      }
    },
    {
      "cell_type": "markdown",
      "source": [
        "A queue is defined as a linear data structure that is open at both ends and the operations are performed in First In First Out (FIFO) order.\n",
        "\n",
        "We define a queue to be a list in which all additions to the list are made at one end, and all deletions from the list are made at the other end.  The element which is first pushed into the order, the operation is first performed on that."
      ],
      "metadata": {
        "id": "tjOI5H2wvb4q"
      }
    },
    {
      "cell_type": "markdown",
      "source": [
        "![queue.png](data:image/png;base64,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)"
      ],
      "metadata": {
        "id": "TY5mge0_Xv5p"
      }
    },
    {
      "cell_type": "markdown",
      "source": [
        "Types of Queue:\n",
        "\n",
        "\n",
        "Input Restricted Queue:- \n",
        "This is a simple queue. In this type of queue, the input can be taken from only one end but deletion can be done from any of the ends.\n",
        "\n",
        "Output Restricted Queue:- \n",
        "This is also a simple queue. In this type of queue, the input can be taken from both ends but deletion can be done from only one end.\n",
        "\n",
        "\n",
        "Circular Queue:- \n",
        "This is a special type of queue where the last position is connected back to the first position. Here also the operations are performed in FIFO order.\n",
        "\n",
        "\n",
        "Double-Ended Queue (Dequeue):- \n",
        "In a double-ended queue the insertion and deletion operations, both can be performed from both ends.\n",
        "\n",
        "\n",
        "Priority Queue:- \n",
        "A priority queue is a special queue where the elements are accessed based on the priority assigned to them."
      ],
      "metadata": {
        "id": "wk87dM_KZJ-V"
      }
    },
    {
      "cell_type": "markdown",
      "source": [
        "### Basic Operations of Queue"
      ],
      "metadata": {
        "id": "9cR2FTRqvtn9"
      }
    },
    {
      "cell_type": "markdown",
      "source": [
        "*  front():      This operation gives the front element without removing it\n",
        "*  rear():       This operation gives the rear element without removing it\n",
        "*  isEmpty():    This operation gives the boolean value for queue is empty or not\n",
        "*  isFull():     This operation gives the boolean value for queue is full or not\n",
        "*  Enqueue():    Adds (or stores) an element to the end of the queue.\n",
        "*  Dequeue():    Removes (or access) the first element from the queue."
      ],
      "metadata": {
        "id": "vQCVxD1-YcCE"
      }
    },
    {
      "cell_type": "code",
      "source": [
        "from collections import deque\n",
        "\n",
        "class Queue:\n",
        "    \n",
        "    def __init__(self):\n",
        "        self.buffer = deque()\n",
        "    \n",
        "    def enqueue(self, val):\n",
        "        self.buffer.appendleft(val)\n",
        "        \n",
        "    def dequeue(self):\n",
        "        return self.buffer.pop()\n",
        "    \n",
        "    def is_empty(self):\n",
        "        return len(self.buffer)==0\n",
        "    \n",
        "    def size(self):\n",
        "        return len(self.buffer)\n",
        "\n",
        "    def print_queue(self):\n",
        "        return self.buffer"
      ],
      "metadata": {
        "id": "7Ny6QIUyAP1w"
      },
      "execution_count": 7,
      "outputs": []
    },
    {
      "cell_type": "code",
      "source": [
        "que = Queue()"
      ],
      "metadata": {
        "id": "s_sPUev1bh1z"
      },
      "execution_count": 8,
      "outputs": []
    },
    {
      "cell_type": "code",
      "source": [
        "que.enqueue(87)\n",
        "que.enqueue(99)\n",
        "que.enqueue(69)"
      ],
      "metadata": {
        "id": "AKdzxOKTbkWZ"
      },
      "execution_count": 9,
      "outputs": []
    },
    {
      "cell_type": "code",
      "source": [
        "que.print_queue()"
      ],
      "metadata": {
        "colab": {
          "base_uri": "https://localhost:8080/"
        },
        "id": "Azto5cTBbm62",
        "outputId": "0e6b8abf-6a11-4325-a3fd-01c9411fbe44"
      },
      "execution_count": 11,
      "outputs": [
        {
          "output_type": "execute_result",
          "data": {
            "text/plain": [
              "deque([69, 99, 87])"
            ]
          },
          "metadata": {},
          "execution_count": 11
        }
      ]
    },
    {
      "cell_type": "code",
      "source": [
        "que.dequeue()"
      ],
      "metadata": {
        "colab": {
          "base_uri": "https://localhost:8080/"
        },
        "id": "xCJOi1sqb3Z8",
        "outputId": "74fc842f-5133-4e33-9dcf-fac3219a5901"
      },
      "execution_count": 12,
      "outputs": [
        {
          "output_type": "execute_result",
          "data": {
            "text/plain": [
              "87"
            ]
          },
          "metadata": {},
          "execution_count": 12
        }
      ]
    },
    {
      "cell_type": "code",
      "source": [
        "que.is_empty()"
      ],
      "metadata": {
        "colab": {
          "base_uri": "https://localhost:8080/"
        },
        "id": "hSljSg6Hb-Dm",
        "outputId": "e3158f96-b587-430d-c4dd-297be1d6abed"
      },
      "execution_count": 13,
      "outputs": [
        {
          "output_type": "execute_result",
          "data": {
            "text/plain": [
              "False"
            ]
          },
          "metadata": {},
          "execution_count": 13
        }
      ]
    },
    {
      "cell_type": "code",
      "source": [
        "que.size()"
      ],
      "metadata": {
        "colab": {
          "base_uri": "https://localhost:8080/"
        },
        "id": "r9VjCAZ3cEae",
        "outputId": "6ff87c67-e4a5-4c8f-f922-e5500f937ea4"
      },
      "execution_count": 14,
      "outputs": [
        {
          "output_type": "execute_result",
          "data": {
            "text/plain": [
              "2"
            ]
          },
          "metadata": {},
          "execution_count": 14
        }
      ]
    },
    {
      "cell_type": "code",
      "source": [],
      "metadata": {
        "id": "kWGVeV26cHrB"
      },
      "execution_count": null,
      "outputs": []
    }
  ]
}
